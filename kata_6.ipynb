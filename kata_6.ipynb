{
 "cells": [
  {
   "cell_type": "markdown",
   "metadata": {},
   "source": [
    "# CREAR Y USAR LISTAS"
   ]
  },
  {
   "cell_type": "markdown",
   "metadata": {},
   "source": [
    "## Ejercicio 1\n",
    "almacenar los nombres de planetas en una lista."
   ]
  },
  {
   "cell_type": "code",
   "execution_count": null,
   "metadata": {},
   "outputs": [],
   "source": [
    "planets = [\"Mercurio\",\"Venus\",\"Tierra\",\"Marte\",\"Júpiter\",\"Saturno\",\"Urano\",\"Neptuno\"]\n",
    "planets.append(\"Plutón\")\n",
    "\n",
    "print(f\"\"\"Los planetas que hay: {planets} ,{planets[-1]}<-- Planeta faltante\n",
    "y hay un total de: {len(planets)} planetas.\"\"\")\n",
    "\n",
    " "
   ]
  },
  {
   "cell_type": "markdown",
   "metadata": {},
   "source": [
    "## Ejercicio 2 \n",
    "Trabajar con datos de listas. "
   ]
  },
  {
   "cell_type": "code",
   "execution_count": 9,
   "metadata": {},
   "outputs": [
    {
     "name": "stdout",
     "output_type": "stream",
     "text": [
      "Tiene que empezar con mayúscula.\n",
      "los planetas más cercanos al sol son: ['Mercurio', 'Venus', 'Tierra'] \n",
      "            y los más lejanos son: ['Júpiter', 'Saturno', 'Urano', 'Neptuno']\n"
     ]
    }
   ],
   "source": [
    "import os\n",
    "import time\n",
    "\n",
    "planets = [\"Mercurio\",\"Venus\",\"Tierra\",\"Marte\",\"Júpiter\",\"Saturno\",\"Urano\",\"Neptuno\"]\n",
    "\n",
    "\n",
    "while True:\n",
    "    try:\n",
    "        \n",
    "        usuario = input(\"Ingresa el planeta para saber la distancia al sol: \")\n",
    "        \n",
    "        if usuario.startswith(\"M\") or usuario.startswith(\"V\") or usuario.startswith(\"T\") or usuario.startswith(\"J\") or usuario.startswith(\"S\") or usuario.startswith(\"U\") or usuario.startswith(\"N\") :\n",
    "            ubicacion = planets.index(usuario)\n",
    "            os.system(\"cls\")\n",
    "            print(f\"\"\"los planetas más cercanos al sol son: {planets[0:ubicacion]} \n",
    "            y los más lejanos son: {planets[ubicacion +1:]}\"\"\")\n",
    "            break\n",
    "        else:\n",
    "            print(\"Tiene que empezar con mayúscula.\")\n",
    "            \n",
    "    except:\n",
    "        print(\"DATOS INVÁLIDOS.\")\n",
    "\n",
    "        \n",
    "        \n",
    "\n"
   ]
  }
 ],
 "metadata": {
  "interpreter": {
   "hash": "3d56e7964d1c56a1bd85e53444517af8052847234026ce38ff852b1dd2ece98c"
  },
  "kernelspec": {
   "display_name": "Python 3.10.2 64-bit",
   "language": "python",
   "name": "python3"
  },
  "language_info": {
   "codemirror_mode": {
    "name": "ipython",
    "version": 3
   },
   "file_extension": ".py",
   "mimetype": "text/x-python",
   "name": "python",
   "nbconvert_exporter": "python",
   "pygments_lexer": "ipython3",
   "version": "3.10.2"
  },
  "orig_nbformat": 4
 },
 "nbformat": 4,
 "nbformat_minor": 2
}
