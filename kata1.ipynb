{
 "cells": [
  {
   "cell_type": "markdown",
   "metadata": {},
   "source": []
  },
  {
   "cell_type": "code",
   "execution_count": null,
   "metadata": {},
   "outputs": [],
   "source": [
    "from datetime import date\n",
    "\n",
    "print(\"La fecha de hoy es: \",date.today()) # Sin convertir a str\n",
    "print(\"La fecha de hoy es: \"+str(date.today())) # Convirtiendo la fecha a str"
   ]
  }
 ],
 "metadata": {
  "interpreter": {
   "hash": "ab19a89ee72837df8e8a86ba7a25080d24ba56d474ac785c6e218fcb6464fa7e"
  },
  "kernelspec": {
   "display_name": "Python 3.9.2 64-bit",
   "language": "python",
   "name": "python3"
  },
  "language_info": {
   "codemirror_mode": {
    "name": "ipython",
    "version": 3
   },
   "file_extension": ".py",
   "mimetype": "text/x-python",
   "name": "python",
   "nbconvert_exporter": "python",
   "pygments_lexer": "ipython3",
   "version": "3.9.2"
  },
  "orig_nbformat": 4
 },
 "nbformat": 4,
 "nbformat_minor": 2
}
