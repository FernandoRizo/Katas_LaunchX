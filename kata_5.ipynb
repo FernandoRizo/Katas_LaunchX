{
 "cells": [
  {
   "cell_type": "markdown",
   "metadata": {},
   "source": [
    "# OPERADORES ARITMÉTICOS"
   ]
  },
  {
   "cell_type": "markdown",
   "metadata": {},
   "source": [
    "## Ejercicio 1\n",
    "Calcular distancia entre planetas."
   ]
  },
  {
   "cell_type": "code",
   "execution_count": null,
   "metadata": {},
   "outputs": [],
   "source": [
    "Planeta_1 = 149597870\n",
    "Planeta_2 = 778547200\n",
    "\n",
    "distancia = Planeta_1 - Planeta_2\n",
    "millas = distancia*.621\n",
    "\n",
    "print(abs(distancia),\"\\n\",abs(millas))"
   ]
  },
  {
   "cell_type": "markdown",
   "metadata": {},
   "source": [
    "## Ejercicio 2\n",
    "\n",
    "convierte cadenas en números y usa valores absolutos."
   ]
  },
  {
   "cell_type": "code",
   "execution_count": null,
   "metadata": {},
   "outputs": [],
   "source": [
    "primer_planeta = int(input(\"Introduzca la distancia del primer planeta al sol en km: \"))\n",
    "segundo_planeta = int(input(\"Introduzca la distancia del segundo planeta al sol en km: \"))\n",
    "\n",
    "distancia_total =abs(primer_planeta - segundo_planeta)\n",
    "distancia_millas = abs(distancia_total*0.621)\n",
    "\n",
    "print(f\"Distancia en Km --> {distancia_total} ---- Distancia en millas --> {distancia_millas}\")\n",
    "\n"
   ]
  }
 ],
 "metadata": {
  "interpreter": {
   "hash": "ab19a89ee72837df8e8a86ba7a25080d24ba56d474ac785c6e218fcb6464fa7e"
  },
  "kernelspec": {
   "display_name": "Python 3.9.2 64-bit",
   "language": "python",
   "name": "python3"
  },
  "language_info": {
   "codemirror_mode": {
    "name": "ipython",
    "version": 3
   },
   "file_extension": ".py",
   "mimetype": "text/x-python",
   "name": "python",
   "nbconvert_exporter": "python",
   "pygments_lexer": "ipython3",
   "version": "3.9.2"
  },
  "orig_nbformat": 4
 },
 "nbformat": 4,
 "nbformat_minor": 2
}
