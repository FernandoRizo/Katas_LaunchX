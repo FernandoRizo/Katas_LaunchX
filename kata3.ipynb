{
 "cells": [
  {
   "cell_type": "code",
   "execution_count": null,
   "metadata": {},
   "outputs": [],
   "source": [
    "\n",
    "%pip install ipykernel"
   ]
  },
  {
   "cell_type": "markdown",
   "metadata": {},
   "source": [
    "# UN ASTEROIDE SE DIRIGE  A LA TIERRA\n"
   ]
  },
  {
   "cell_type": "markdown",
   "metadata": {},
   "source": [
    "## EJERCICIO 1\n",
    "Capturar la velodidad del asteroide."
   ]
  },
  {
   "cell_type": "code",
   "execution_count": 1,
   "metadata": {},
   "outputs": [
    {
     "name": "stdout",
     "output_type": "stream",
     "text": [
      "DATO NO VÁLIDO.\n",
      "Ingresa un valor numérco.\n",
      "DATO NO VÁLIDO.\n",
      "Ingresa un valor numérco.\n"
     ]
    }
   ],
   "source": [
    "while True:\n",
    "    try:\n",
    "        asteroide = float(input(\"A cuánta velocidad va el asteroide: \"))\n",
    "        break\n",
    "    except:\n",
    "        print(\"DATO NO VÁLIDO.\")\n",
    "        print(\"Ingresa un valor numérco.\")\n",
    "\n",
    "if asteroide >25:\n",
    "    print(f\"El asteroide que viaja a {asteroide} representa una amenaza!\")\n",
    "else:\n",
    "    print(\"Todo bien ;)\")\n"
   ]
  },
  {
   "cell_type": "markdown",
   "metadata": {},
   "source": [
    "## EJERCICIO 2\n",
    "Saber si se verá en el cielo."
   ]
  },
  {
   "cell_type": "code",
   "execution_count": null,
   "metadata": {},
   "outputs": [],
   "source": [
    "while True:\n",
    "    try:\n",
    "        rayo_en_cielo = float(input(\"¿Cuál es la velocidad registrada del asteroide entrando a la atmósfera?: \"))\n",
    "        break\n",
    "    except:\n",
    "        print(\"DATO NO VÁLIDO\\n\")\n",
    "        print(\"Ingresa un valor numérico.\")\n",
    "        \n",
    "if rayo_en_cielo >20:\n",
    "    print(\"\\n¡HAY UN ASTEROIDE EN EL CIELO!\")\n",
    "else:\n",
    "    print(\"\\nPor el momento no hay nada\")"
   ]
  },
  {
   "cell_type": "markdown",
   "metadata": {},
   "source": [
    "## EJERCICIO 3\n",
    "Registrar el tamaño y la velocidad del asteroide."
   ]
  },
  {
   "cell_type": "code",
   "execution_count": null,
   "metadata": {},
   "outputs": [],
   "source": [
    "while True:\n",
    "    try:\n",
    "        velocidad_asteroide = float(input(\"¿Cuál es la velocidad registrada del asteroide?: \"))\n",
    "        tamaño_asteoride = float(input(\"¿Cuál es el tamaño resgistrado del asteroide?: \"))\n",
    "        break\n",
    "    except:\n",
    "        print(\"DATO NO VÁLIDO\\n\")\n",
    "        print(\"Ingresa un valor numérico.\")\n",
    "\n",
    "if velocidad_asteroide >25 and tamaño_asteoride >25:\n",
    "    print(\"¡PELIGRO DE IMPACTO DEL ASTEROIDE!\")\n",
    "elif velocidad_asteroide>25:\n",
    "    print(\"\\n¡HAY UN ASTEROIDE EN EL CIELO!\")\n",
    "elif tamaño_asteoride <25:\n",
    "    print(\"Todo bien.\")\n",
    "else:\n",
    "    print(\"No hay asteroide peligroso.\")"
   ]
  }
 ],
 "metadata": {
  "interpreter": {
   "hash": "c7678bf5614f2a3571b3b46908bae263da119d05ad590bfd50cb1ab8522bab4d"
  },
  "kernelspec": {
   "display_name": "Python 3.9.2 ('env': venv)",
   "language": "python",
   "name": "python3"
  },
  "language_info": {
   "codemirror_mode": {
    "name": "ipython",
    "version": 3
   },
   "file_extension": ".py",
   "mimetype": "text/x-python",
   "name": "python",
   "nbconvert_exporter": "python",
   "pygments_lexer": "ipython3",
   "version": "3.9.2"
  },
  "orig_nbformat": 4
 },
 "nbformat": 4,
 "nbformat_minor": 2
}
