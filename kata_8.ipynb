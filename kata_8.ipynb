{
 "cells": [
  {
   "cell_type": "markdown",
   "metadata": {},
   "source": [
    "# DICCIONARIOS"
   ]
  },
  {
   "cell_type": "markdown",
   "metadata": {},
   "source": [
    "## Ejercicio 1\n",
    "\n",
    "Crear y modificar un diccionario de Python"
   ]
  },
  {
   "cell_type": "code",
   "execution_count": null,
   "metadata": {},
   "outputs": [],
   "source": [
    "planeta = {\"nombre\": \"marte\",\"lunas\": \"2\"}\n",
    "print(f\"el planeta {planeta['nombre']} tiene {planeta['lunas']} lunas\")\n",
    "update = planeta.update({\"polar\":\"6752\",\"ecuatorial\":\"6792\"})\n",
    "print(f\"el planeta {planeta['nombre']} tiene una circunferencia polar de {planeta['polar']} km\")"
   ]
  },
  {
   "cell_type": "markdown",
   "metadata": {},
   "source": [
    "## Ejercicio 2\n",
    "Programación dinámica con diccionarios"
   ]
  },
  {
   "cell_type": "code",
   "execution_count": null,
   "metadata": {},
   "outputs": [],
   "source": [
    "planet_moons = {\n",
    "    'mercury': 0,\n",
    "    'venus': 0,\n",
    "    'earth': 1,\n",
    "    'mars': 2,\n",
    "    'jupiter': 79,\n",
    "    'saturn': 82,\n",
    "    'uranus': 27,\n",
    "    'neptune': 14,\n",
    "    'pluto': 5,\n",
    "    'haumea': 2,\n",
    "    'makemake': 1,\n",
    "    'eris': 1\n",
    "}\n",
    "\n",
    "lunas = planet_moons.values()\n",
    "planetas = len(planet_moons.keys())\n",
    "lunas_totales = 0\n",
    "\n",
    "for luna in lunas:\n",
    "    lunas_totales = lunas_totales + luna\n",
    "\n",
    "promedio = lunas_totales/planetas\n",
    "\n",
    "print(f\"\"\"De los {planetas} planetas que hay, tenemos {lunas_totales} lunas en total\n",
    "y el promedio de lunas que hay por planeta es de: {promedio} lunas. \"\"\")"
   ]
  }
 ],
 "metadata": {
  "interpreter": {
   "hash": "3d56e7964d1c56a1bd85e53444517af8052847234026ce38ff852b1dd2ece98c"
  },
  "kernelspec": {
   "display_name": "Python 3.10.2 64-bit",
   "language": "python",
   "name": "python3"
  },
  "language_info": {
   "codemirror_mode": {
    "name": "ipython",
    "version": 3
   },
   "file_extension": ".py",
   "mimetype": "text/x-python",
   "name": "python",
   "nbconvert_exporter": "python",
   "pygments_lexer": "ipython3",
   "version": "3.10.2"
  },
  "orig_nbformat": 4
 },
 "nbformat": 4,
 "nbformat_minor": 2
}
