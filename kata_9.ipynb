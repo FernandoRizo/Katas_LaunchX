{
 "cells": [
  {
   "cell_type": "markdown",
   "metadata": {},
   "source": [
    "# FUNCIONES"
   ]
  },
  {
   "cell_type": "markdown",
   "metadata": {},
   "source": [
    "## Ejercicio 1\n",
    "Trabajar con argumentos en funciones"
   ]
  },
  {
   "cell_type": "code",
   "execution_count": null,
   "metadata": {},
   "outputs": [],
   "source": [
    "def combustible_(tanque_1,tanque_2,tanque_3):\n",
    "    promedio = tanque_1+tanque_2+tanque_3 /3\n",
    "    return f\"\"\"Reporte de combustible\n",
    "    promedio del combustible {promedio}%\n",
    "    tanque 1:{tanque_1}%\n",
    "    tanque 2:{tanque_2}%\n",
    "    tanque 3 :{tanque_3:}%\n",
    "    \"\"\"\n",
    "print(combustible_(100,100,100))\n",
    "\n",
    "def promedio(valores):\n",
    "    total = sum(valores)\n",
    "    tanques = len(valores)\n",
    "    return total/tanques\n",
    "promedio([100,100,100])\n",
    "\n",
    "\n",
    "def combustible(tanque_1,tanque_2,tanque_3):\n",
    "    promedio_total= tanque_1+tanque_2+tanque_3 /3\n",
    "    return f\"\"\"Reporte de combustible\n",
    "    promedio del combustible {promedio([tanque_1,tanque_2,tanque_3])}%\n",
    "    tanque 1:{tanque_1}%\n",
    "    tanque 2:{tanque_2}%\n",
    "    tanque 3 :{tanque_3:}%\n",
    "    \"\"\"\n",
    "print(combustible(0,0,0))"
   ]
  },
  {
   "cell_type": "markdown",
   "metadata": {},
   "source": [
    "## Ejercicio 2\n",
    "Trabajar con argumentos de palabras clave en funciones\n"
   ]
  },
  {
   "cell_type": "code",
   "execution_count": 25,
   "metadata": {},
   "outputs": [
    {
     "name": "stdout",
     "output_type": "stream",
     "text": [
      "reporte de misión\n",
      "    destino a Mercurio\n",
      "    tiempo de lanzamiento: 10 minutos.\n",
      "    tiempo de vuelo 20 minutos.\n",
      "    tanque externo: 100 litros.\n",
      "    tanque interno 100 litros.\n",
      "    tiempo de viaje 30 minutos.\n",
      "    combustible total 200 litros.\n",
      "\n",
      "REPORTE DE MISIÓN.\n",
      "    Destino: Andromeda.\n",
      "    tiempo de vuelo total: 76 minutos.\n",
      "    reservas de combustible: 55000 litros.\n",
      "\n",
      "    Destino a:  Sol.\n",
      "    Tiempo de vuelo total: 84 minutes\n",
      "    Combustible: 200000externo tanque, 100000 litros \n",
      "interno tanque, 100000 litros \n",
      "\n"
     ]
    }
   ],
   "source": [
    "def informe_mision(tiempo_lanzamiento,tiempo_vuelo,destino,tanque_externo,tanque_interno):\n",
    "    return f\"\"\"reporte de misión\n",
    "    destino a {destino}\n",
    "    tiempo de lanzamiento: {tiempo_lanzamiento} minutos.\n",
    "    tiempo de vuelo {tiempo_vuelo} minutos.\n",
    "    tanque externo: {tanque_externo} litros.\n",
    "    tanque interno {tanque_interno} litros.\n",
    "    tiempo de viaje {tiempo_lanzamiento + tiempo_vuelo} minutos.\n",
    "    combustible total {tanque_externo+tanque_interno} litros.\\n\"\"\"\n",
    "\n",
    "print(informe_mision(10,20,\"Mercurio\",100,100))\n",
    "\n",
    "def informe_mision(destino,*minutos,**reservas_combustible):\n",
    "    return f\"\"\"REPORTE DE MISIÓN.\n",
    "    Destino: {destino}.\n",
    "    tiempo de vuelo total: {sum(minutos)} minutos.\n",
    "    reservas de combustible: {sum(reservas_combustible.values())} litros.\"\"\"\n",
    "\n",
    "print(informe_mision(\"Andromeda\",10,15,51,externo=5000,interno=50000))\n",
    "\n",
    "def informe_mision(destino,*minutos,**reservas):\n",
    "    principal = f\"\"\"\n",
    "    Destino a:  {destino}.\n",
    "    Tiempo de vuelo total: {sum(minutos)} minutes\n",
    "    Combustible: {sum(reservas.values())}\"\"\"\n",
    "    for tanque, litros in reservas.items():\n",
    "        principal += f\"{tanque} tanque, {litros} litros \\n\"\n",
    "    return principal\n",
    "\n",
    "print(informe_mision(\"Sol\",10,40,34,externo=100000,interno=100000))"
   ]
  }
 ],
 "metadata": {
  "interpreter": {
   "hash": "3d56e7964d1c56a1bd85e53444517af8052847234026ce38ff852b1dd2ece98c"
  },
  "kernelspec": {
   "display_name": "Python 3.10.2 64-bit",
   "language": "python",
   "name": "python3"
  },
  "language_info": {
   "codemirror_mode": {
    "name": "ipython",
    "version": 3
   },
   "file_extension": ".py",
   "mimetype": "text/x-python",
   "name": "python",
   "nbconvert_exporter": "python",
   "pygments_lexer": "ipython3",
   "version": "3.10.2"
  },
  "orig_nbformat": 4
 },
 "nbformat": 4,
 "nbformat_minor": 2
}
